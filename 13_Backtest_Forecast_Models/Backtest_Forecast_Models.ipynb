{
 "cells": [
  {
   "cell_type": "code",
   "execution_count": 1,
   "metadata": {},
   "outputs": [],
   "source": [
    "import pandas as pd\n",
    "import numpy as np\n",
    "import matplotlib.pyplot as plt\n",
    "\n",
    "%matplotlib inline"
   ]
  },
  {
   "cell_type": "markdown",
   "metadata": {},
   "source": [
    "# backtesting or hindcasting"
   ]
  },
  {
   "cell_type": "markdown",
   "metadata": {},
   "source": [
    "## Model Evaluation"
   ]
  },
  {
   "cell_type": "markdown",
   "metadata": {},
   "source": [
    "- When evaluating a model for time series forecasting, we are interested in the performance of the model on data that was not used to train it.\n",
    "- We can do this by splitting up the data that we do have available.\n",
    "- We use some to prepare the model and we hold back some data and ask the model to make predictions for that period. \n",
    "- The evaluation of these predictions will provide a good proxy for how the model will perform when we use it operationally.\n",
    "\n",
    "we must split data up and respect the temporal order in which values were observed.\n",
    "\n",
    "In time series forecasting, this evaluation of models on historical data is called backtesting.\n",
    "\n",
    "Three different methods that you can use to backtest:\n",
    "\n",
    "#### 1) Train-Test split that respect temporal order of observations.\n",
    "#### 2) Multiple Train-Test splits that respect temporal order of observations..\n",
    "#### 3) Walk-Forward Validation where a model may be updated each time step new data is received.\n",
    "\n"
   ]
  },
  {
   "cell_type": "markdown",
   "metadata": {},
   "source": [
    "### Train-Test Split\n",
    "- 1) Split your dataset into training and testing subset.\n",
    " - This can be done by selecting an arbitrary split point in the ordered list of observations and creating two new datasets.\n",
    " - Depending on the amount of data you have available and the amount of data required, you can use splits of 50-50, 70-30 and 90-10.\n",
    "- 2) The Model can be prepared on the training dataset.\n",
    "- 3) The Predictions can be made and evaluated for the test dataset.\n",
    "\n",
    "\n",
    "Data: a monthly count of the number of observed sunspots for just over 230 years (1749-1983)"
   ]
  },
  {
   "cell_type": "code",
   "execution_count": null,
   "metadata": {},
   "outputs": [],
   "source": []
  }
 ],
 "metadata": {
  "kernelspec": {
   "display_name": "Python 3",
   "language": "python",
   "name": "python3"
  },
  "language_info": {
   "codemirror_mode": {
    "name": "ipython",
    "version": 3
   },
   "file_extension": ".py",
   "mimetype": "text/x-python",
   "name": "python",
   "nbconvert_exporter": "python",
   "pygments_lexer": "ipython3",
   "version": "3.8.5"
  },
  "toc": {
   "base_numbering": 1,
   "nav_menu": {},
   "number_sections": true,
   "sideBar": true,
   "skip_h1_title": false,
   "title_cell": "Table of Contents",
   "title_sidebar": "Contents",
   "toc_cell": false,
   "toc_position": {},
   "toc_section_display": true,
   "toc_window_display": false
  }
 },
 "nbformat": 4,
 "nbformat_minor": 4
}
